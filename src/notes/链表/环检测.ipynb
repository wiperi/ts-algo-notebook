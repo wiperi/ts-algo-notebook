{
 "cells": [
  {
   "cell_type": "code",
   "execution_count": 2,
   "metadata": {},
   "outputs": [],
   "source": [
    "from typing import List, Optional\n",
    "\n",
    "\n",
    "class ListNode:\n",
    "    def __init__(self, val=0, next=None):\n",
    "        self.val = val\n",
    "        self.next: ListNode | None = next\n",
    "\n",
    "\n",
    "def hasCycle(self, head: ListNode) -> bool:\n",
    "    # 快慢指针初始化指向 head\n",
    "    slow, fast = head, head\n",
    "    # 快指针走到末尾时停止\n",
    "    while fast and fast.next:\n",
    "        # 慢指针走一步，快指针走两步\n",
    "        slow = slow.next\n",
    "        fast = fast.next.next\n",
    "        # 快慢指针相遇，说明含有环\n",
    "        if slow == fast:\n",
    "            return True\n",
    "    # 不包含环\n",
    "    return False"
   ]
  }
 ],
 "metadata": {
  "kernelspec": {
   "display_name": "Python 3",
   "language": "python",
   "name": "python3"
  },
  "language_info": {
   "codemirror_mode": {
    "name": "ipython",
    "version": 3
   },
   "file_extension": ".py",
   "mimetype": "text/x-python",
   "name": "python",
   "nbconvert_exporter": "python",
   "pygments_lexer": "ipython3",
   "version": "3.11.5"
  }
 },
 "nbformat": 4,
 "nbformat_minor": 2
}
