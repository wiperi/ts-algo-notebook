{
 "cells": [
  {
   "cell_type": "markdown",
   "metadata": {},
   "source": [
    "- 常见应用：查询 子数组 / 区间 的性质(和，积，元素频率)"
   ]
  },
  {
   "cell_type": "code",
   "execution_count": 1,
   "metadata": {},
   "outputs": [],
   "source": [
    "from itertools import accumulate\n",
    "\n",
    "\n",
    "class NumArray:\n",
    "    # 构造前缀和数组\n",
    "    def __init__(self, nums: list[int]):\n",
    "        n = len(nums)\n",
    "        self.preSum = [0] * (len(nums) + 1)\n",
    "        for i in range(1, len(self.preSum)):\n",
    "            self.preSum[i] = self.preSum[i - 1] + nums[i - 1]\n",
    "\n",
    "    # 用库函数构造\n",
    "    def init(self, nums: list[int]):\n",
    "        self.preSum = list(accumulate(nums, initial=0))\n",
    "\n",
    "    # 查询闭区间 [left, right] 的累加和\n",
    "    def sumRange(self, left: int, right: int) -> int:\n",
    "        return self.preSum[right + 1] - self.preSum[left]"
   ]
  },
  {
   "cell_type": "code",
   "execution_count": 6,
   "metadata": {},
   "outputs": [
    {
     "name": "stdout",
     "output_type": "stream",
     "text": [
      "[0, 1, 3, 6]\n"
     ]
    }
   ],
   "source": [
    "\n",
    "print(list(accumulate([1,2,3], initial=0, func=None)))"
   ]
  }
 ],
 "metadata": {
  "kernelspec": {
   "display_name": "Python 3",
   "language": "python",
   "name": "python3"
  },
  "language_info": {
   "codemirror_mode": {
    "name": "ipython",
    "version": 3
   },
   "file_extension": ".py",
   "mimetype": "text/x-python",
   "name": "python",
   "nbconvert_exporter": "python",
   "pygments_lexer": "ipython3",
   "version": "3.11.5"
  }
 },
 "nbformat": 4,
 "nbformat_minor": 2
}
