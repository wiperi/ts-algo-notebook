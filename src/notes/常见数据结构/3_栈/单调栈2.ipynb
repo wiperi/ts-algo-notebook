{
 "cells": [
  {
   "cell_type": "markdown",
   "metadata": {},
   "source": [
    "## 常见场景\n",
    "\n",
    "寻找左侧/右侧 第一个/最后一个 比当前元素 大/小 的元素的 值/索引\n",
    "\n",
    "以寻找左侧第一个大元素为例子\n",
    "\n",
    "## 核心思想\n",
    "\n",
    "及时排除不可能选项，避免重复计算\n",
    "\n",
    "1，0，4，3，2\n",
    "\n",
    "对于naive approach，每个位置向左枚举，显然，对于4之后的任何元素，1，0都不可能是答案，因此在4的位置向左索引的时候应该remove 1 和 0\n",
    "\n",
    "## 循环不变式\n",
    "\n",
    "对于i，当while循环结束的时候，stack所有元素均严格大于nums[i]\n",
    "\n",
    "此时，栈顶就是最近的大元素\n",
    "\n"
   ]
  },
  {
   "cell_type": "code",
   "execution_count": 4,
   "metadata": {},
   "outputs": [
    {
     "name": "stdout",
     "output_type": "stream",
     "text": [
      "[-1, 0, 1, -1, 3]\n"
     ]
    }
   ],
   "source": [
    "def left_first_large(a: list[int]):\n",
    "    n = len(a)\n",
    "\n",
    "    st = []\n",
    "    res = [-1] * n\n",
    "    for i in range(n):\n",
    "        while st and a[i] >= st[-1]:\n",
    "            st.pop()\n",
    "\n",
    "        if st:\n",
    "            res[i] = st[-1]\n",
    "\n",
    "        st.append(a[i])\n",
    "\n",
    "    return res\n",
    "\n",
    "\n",
    "left_first_large([1, 3, 2])\n",
    "\n",
    "\n",
    "# 1. 左侧第一个大元素\n",
    "def left_first_greater(a: list[int]):\n",
    "    n = len(a)\n",
    "    res = [-1] * n\n",
    "    st = []\n",
    "\n",
    "    for i in reversed(range(n)):\n",
    "        while st and a[i] > a[st[-1]]:\n",
    "            top = st.pop()\n",
    "            res[top] = i\n",
    "\n",
    "        st.append(i)\n",
    "\n",
    "    return res\n",
    "\n",
    "print(left_first_greater([3,2,1, 5, 1]))\n",
    "\n",
    "def rightmost_greater(a: list[int]):\n",
    "    map_gap = 0\n",
    "    st = [0]\n",
    "    n = len(a)\n",
    "    for i in range(1, n):\n",
    "        if a[i] < a[st[-1]]:\n",
    "            st.append(i)\n",
    "    \n",
    "    for i in reversed(range(n)):\n",
    "        while st and a[st[-1]] <= a[i]:\n",
    "            map_gap = max(map_gap, i - st[-1])\n",
    "            st.pop()\n",
    "    return map_gap"
   ]
  }
 ],
 "metadata": {
  "kernelspec": {
   "display_name": "Python 3",
   "language": "python",
   "name": "python3"
  },
  "language_info": {
   "codemirror_mode": {
    "name": "ipython",
    "version": 3
   },
   "file_extension": ".py",
   "mimetype": "text/x-python",
   "name": "python",
   "nbconvert_exporter": "python",
   "pygments_lexer": "ipython3",
   "version": "3.11.5"
  }
 },
 "nbformat": 4,
 "nbformat_minor": 2
}
