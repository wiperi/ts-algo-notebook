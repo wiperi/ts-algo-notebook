{
 "cells": [
  {
   "cell_type": "markdown",
   "metadata": {},
   "source": [
    "- 应用场景：对数组中的区间频繁增减\n",
    "- 前缀和类比积分，差分数组类比微分"
   ]
  },
  {
   "cell_type": "code",
   "execution_count": 13,
   "metadata": {},
   "outputs": [],
   "source": [
    "class Difference:\n",
    "    # 构造差分数组\n",
    "    def __init__(self, nums: list[int]):\n",
    "        assert len(nums) > 0\n",
    "        self.diff = [0] * len(nums)\n",
    "        self.diff[0] = nums[0]\n",
    "        for i in range(1, len(nums)):\n",
    "            self.diff[i] = nums[i] - nums[i - 1]\n",
    "\n",
    "    # 区间增减操作\n",
    "    def increment(self, i: int, j: int, val: int) -> None:\n",
    "        self.diff[i] += val\n",
    "        if j + 1 < len(self.diff):\n",
    "            self.diff[j + 1] -= val\n",
    "\n",
    "    # 还原数组\n",
    "    def result(self) -> list[int]:\n",
    "        res = [0] * len(self.diff)\n",
    "        res[0] = self.diff[0]\n",
    "        for i in range(1, len(self.diff)):\n",
    "            res[i] = res[i - 1] + self.diff[i]\n",
    "        return res"
   ]
  },
  {
   "cell_type": "code",
   "execution_count": 14,
   "metadata": {},
   "outputs": [
    {
     "data": {
      "text/plain": [
       "[1, 12, 13, 4, 5]"
      ]
     },
     "execution_count": 14,
     "metadata": {},
     "output_type": "execute_result"
    },
    {
     "ename": "",
     "evalue": "",
     "output_type": "error",
     "traceback": [
      "\u001b[1;31mThe Kernel crashed while executing code in the current cell or a previous cell. \n",
      "\u001b[1;31mPlease review the code in the cell(s) to identify a possible cause of the failure. \n",
      "\u001b[1;31mClick <a href='https://aka.ms/vscodeJupyterKernelCrash'>here</a> for more info. \n",
      "\u001b[1;31mView Jupyter <a href='command:jupyter.viewOutput'>log</a> for further details."
     ]
    }
   ],
   "source": [
    "d = Difference([1, 2, 3, 4, 5])\n",
    "d.increment(1, 2, 10)\n",
    "d.result()"
   ]
  }
 ],
 "metadata": {
  "kernelspec": {
   "display_name": "Python 3",
   "language": "python",
   "name": "python3"
  },
  "language_info": {
   "codemirror_mode": {
    "name": "ipython",
    "version": 3
   },
   "file_extension": ".py",
   "mimetype": "text/x-python",
   "name": "python",
   "nbconvert_exporter": "python",
   "pygments_lexer": "ipython3",
   "version": "3.11.5"
  }
 },
 "nbformat": 4,
 "nbformat_minor": 2
}
