{
 "cells": [
  {
   "cell_type": "markdown",
   "metadata": {},
   "source": [
    "### 框架\n",
    "\n",
    "二分查找是一种在有序数组中查找特定元素的高效算法，时间复杂度为 O(log n)。\n",
    "\n",
    "```python\n",
    "def binary_search(nums, target):\n",
    "    initialize search range\n",
    "\n",
    "\twhile search range is not empty:\n",
    "\t\tcheck middle value\n",
    "\n",
    "\t\tif valid:\n",
    "\t\t\treturn answer\n",
    "\t\telif invalid:\n",
    "\t\t\tnarrow search range\n",
    "```\n",
    "\n",
    "核心思想在于每次查找之后，将查找范围缩小，从而提高查找效率。\n"
   ]
  },
  {
   "cell_type": "markdown",
   "metadata": {},
   "source": [
    "### 查找插入位置\n",
    "\n",
    "对最后一次 while 循环进行分类讨论：\n",
    "\n",
    "此时 `left == right`\n",
    "\n",
    "- 如果 `target == nums[mid]`，则 `right = mid - 1`，`left` 为插入位置\n",
    "- 如果 `target < nums[mid]`，则 `right = mid - 1`，`left` 为插入位置\n",
    "- 如果 `target > nums[mid]`，则 `left = mid + 1`，`left` 为插入位置\n",
    "\n",
    "因此返回 `left` 即为插入位置\n"
   ]
  },
  {
   "cell_type": "code",
   "execution_count": 16,
   "metadata": {},
   "outputs": [],
   "source": [
    "def insert_position(nums: list, target: int):\n",
    "    \"\"\"\n",
    "    Find the index where target should be inserted in a sorted array.\n",
    "    If target is found, returns the leftmost valid position.\n",
    "    If target is not found, returns the position where it should be inserted.\n",
    "    \"\"\"\n",
    "    n = len(nums)\n",
    "    left, right = 0, n - 1\n",
    "\n",
    "    while left <= right:\n",
    "        mid = (left + right) // 2\n",
    "\n",
    "        if target == nums[mid]:\n",
    "            right = mid - 1\n",
    "        elif target < nums[mid]:\n",
    "            right = mid - 1\n",
    "        elif target > nums[mid]:\n",
    "            left = mid + 1\n",
    "\n",
    "    return left"
   ]
  },
  {
   "cell_type": "markdown",
   "metadata": {},
   "source": [
    "### 查找左右边界"
   ]
  },
  {
   "cell_type": "code",
   "execution_count": 17,
   "metadata": {},
   "outputs": [],
   "source": [
    "def leftBound(nums: list, target):\n",
    "    n = len(nums)\n",
    "    lo, hi = 0, n - 1\n",
    "\n",
    "    while lo <= hi:\n",
    "        mid = (lo + hi) // 2\n",
    "\n",
    "        if target == nums[mid]:\n",
    "            # We don't know if there is another target in the left side\n",
    "            # so we remove current value from search range\n",
    "            # and try to find another target in the left side\n",
    "            hi = mid - 1\n",
    "        elif target > nums[mid]:\n",
    "            lo = mid + 1\n",
    "        elif target < nums[mid]:\n",
    "            hi = mid - 1\n",
    "\n",
    "    return lo if 0 <= lo < n and nums[lo] == target else -1\n",
    "\n",
    "\n",
    "def rightBound(nums: list, target):\n",
    "    n = len(nums)\n",
    "    lo, hi = 0, n - 1\n",
    "\n",
    "    while lo <= hi:\n",
    "        mid = (lo + hi) // 2\n",
    "\n",
    "        if target == nums[mid]:\n",
    "            lo = mid + 1\n",
    "        elif target > nums[mid]:\n",
    "            lo = mid + 1\n",
    "        else:\n",
    "            hi = mid - 1\n",
    "\n",
    "    return hi if 0 <= hi < n and nums[hi] == target else -1"
   ]
  },
  {
   "cell_type": "markdown",
   "metadata": {},
   "source": [
    "### 测试"
   ]
  },
  {
   "cell_type": "code",
   "execution_count": 13,
   "metadata": {},
   "outputs": [
    {
     "name": "stdout",
     "output_type": "stream",
     "text": [
      "4\n"
     ]
    }
   ],
   "source": [
    "arr = [1, 2, 2, 2, 3, 3, 4, 4]\n",
    "\n",
    "# Find leftmost position to insert 3\n",
    "res = leftBound(arr, 3)\n",
    "assert(res == 4)  # Index 4 is the leftmost position of 3\n",
    "\n",
    "# Find leftmost position to insert 2\n",
    "res = leftBound(arr, 2)\n",
    "assert(res == 1)  # Index 1 is the leftmost position of 2\n",
    "\n",
    "# Find leftmost position to insert a value not in the array\n",
    "res = leftBound(arr, 0)\n",
    "assert(res == -1)  # 0 should be inserted at the beginning\n",
    "\n",
    "# Test with custom bounds\n",
    "res = leftBound(arr, 3)\n",
    "assert(res == 4)  # Searching for 3\n",
    "\n",
    "# Test bisearch_right\n",
    "res = rightBound(arr, 3)\n",
    "assert(res == 5)  # Index 5 is the rightmost position of 3\n",
    "\n",
    "# Test bisearch_right with value not in array\n",
    "res = rightBound(arr, 5)\n",
    "assert(res == -1)  # 5 is not in the array\n"
   ]
  }
 ],
 "metadata": {
  "kernelspec": {
   "display_name": "Python 3",
   "language": "python",
   "name": "python3"
  },
  "language_info": {
   "codemirror_mode": {
    "name": "ipython",
    "version": 3
   },
   "file_extension": ".py",
   "mimetype": "text/x-python",
   "name": "python",
   "nbconvert_exporter": "python",
   "pygments_lexer": "ipython3",
   "version": "3.11.5"
  }
 },
 "nbformat": 4,
 "nbformat_minor": 2
}
