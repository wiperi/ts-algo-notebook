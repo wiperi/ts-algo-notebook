{
 "cells": [
  {
   "cell_type": "markdown",
   "metadata": {},
   "source": [
    "# 二分查找\n",
    "\n",
    "## 核心思想\n",
    "\n",
    "利用搜索空间具备单调性的特点，采用分治法，每次将搜索空间缩小一半"
   ]
  },
  {
   "cell_type": "raw",
   "metadata": {
    "vscode": {
     "languageId": "raw"
    }
   },
   "source": [
    "BINARY_SEARCH(nums):\n",
    "    initialize search range\n",
    "\n",
    "\twhile search range is not empty:\n",
    "\t\tcheck middle value\n",
    "\n",
    "\t\tif valid:\n",
    "\t\t\treturn answer\n",
    "\t\telif invalid:\n",
    "\t\t\tnarrow search range"
   ]
  },
  {
   "cell_type": "markdown",
   "metadata": {},
   "source": [
    "## 左边界"
   ]
  },
  {
   "cell_type": "raw",
   "metadata": {},
   "source": []
  },
  {
   "cell_type": "code",
   "execution_count": null,
   "metadata": {},
   "outputs": [],
   "source": [
    "# 闭区间版本\n",
    "def leftBound(nums: list, target):\n",
    "    n = len(nums)\n",
    "    lo, hi = 0, n - 1\n",
    "\n",
    "    while lo <= hi:\n",
    "        mid = (lo + hi) // 2\n",
    "\n",
    "        if target == nums[mid]:\n",
    "            # We don't know if there is another target in the left side\n",
    "            # so we remove current value from search range\n",
    "            # and try to find another target in the left side\n",
    "            hi = mid - 1\n",
    "        elif target > nums[mid]:\n",
    "            lo = mid + 1\n",
    "        elif target < nums[mid]:\n",
    "            hi = mid - 1\n",
    "\n",
    "    return lo\n",
    "    \n",
    "  \n",
    " # 开区间版本\n",
    "def fn(a, x):\n",
    "    l, r = 0, len(a)\n",
    "    while l < r:\n",
    "        mid = (l + r) // 2\n",
    "\n",
    "        if x <= a[mid]:\n",
    "            r = mid\n",
    "        else:\n",
    "            l = mid + 1\n",
    "    return l\n",
    "\n",
    "\n",
    "def problem(a):\n",
    "    def check(x) -> bool:\n",
    "        pass\n",
    "\n",
    "    lo, hi = None, None\n",
    "\n",
    "    while lo < hi:\n",
    "        mid = (lo + hi) // 2\n",
    "\n",
    "        if check(mid):\n",
    "            hi = mid\n",
    "        else:\n",
    "            lo = mid + 1\n",
    "    return hi"
   ]
  }
 ],
 "metadata": {
  "kernelspec": {
   "display_name": "Python 3",
   "language": "python",
   "name": "python3"
  },
  "language_info": {
   "name": "python",
   "version": "3.11.5"
  }
 },
 "nbformat": 4,
 "nbformat_minor": 2
}
