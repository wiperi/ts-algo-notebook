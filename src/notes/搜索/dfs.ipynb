{
 "cells": [
  {
   "cell_type": "markdown",
   "metadata": {},
   "source": [
    "# Depth-First Search (DFS) Algorithm\n",
    "\n",
    "## Pseudocode for DFS\n",
    "\n",
    "```python\n",
    "def dfs(src):\n",
    "    for neighbor of src:\n",
    "        dfs(neighbor)\n",
    "```\n"
   ]
  }
 ],
 "metadata": {
  "language_info": {
   "name": "python"
  }
 },
 "nbformat": 4,
 "nbformat_minor": 2
}
