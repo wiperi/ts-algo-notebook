{
 "cells": [
  {
   "cell_type": "markdown",
   "metadata": {},
   "source": [
    "```python\n",
    "def slidingWindow(nums: list[int]):\n",
    "    n = len(nums)\n",
    "\n",
    "    initialize window # window是一个能够反映问题状态的变量\n",
    "    l, r = 0, 0 # 闭区间\n",
    "\n",
    "    # 循环不变量: (l < r) and (r < n)\n",
    "    while r < n:\n",
    "\n",
    "        # 扩大窗口\n",
    "        window.update(s[r])\n",
    "        r += 1\n",
    "\n",
    "        # 窗口不合法，缩小窗口\n",
    "        while l < r and window need to shrink:\n",
    "            window.update(s[l])\n",
    "            l += 1\n",
    "\n",
    "    return\n",
    "```"
   ]
  }
 ],
 "metadata": {
  "kernelspec": {
   "display_name": "Python 3",
   "language": "python",
   "name": "python3"
  },
  "language_info": {
   "codemirror_mode": {
    "name": "ipython",
    "version": 3
   },
   "file_extension": ".py",
   "mimetype": "text/x-python",
   "name": "python",
   "nbconvert_exporter": "python",
   "pygments_lexer": "ipython3",
   "version": "3.11.5"
  }
 },
 "nbformat": 4,
 "nbformat_minor": 2
}
