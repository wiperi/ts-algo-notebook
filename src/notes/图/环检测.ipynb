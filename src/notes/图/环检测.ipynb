{
 "cells": [
  {
   "cell_type": "markdown",
   "metadata": {},
   "source": [
    "## 有向图环检测"
   ]
  },
  {
   "cell_type": "code",
   "execution_count": 3,
   "metadata": {},
   "outputs": [
    {
     "name": "stdout",
     "output_type": "stream",
     "text": [
      "Graph with cycle: True\n",
      "Graph without cycle: False\n"
     ]
    }
   ],
   "source": [
    "def hasCycle(graph):\n",
    "    \"\"\"\n",
    "    Check if a graph contains a cycle using DFS.\n",
    "    \n",
    "    Args:\n",
    "        graph: A list of lists representing an adjacency list where\n",
    "               index i contains a list of neighbors for node i.\n",
    "    \n",
    "    Returns:\n",
    "        bool: True if the graph contains a cycle, False otherwise.\n",
    "    \"\"\"\n",
    "    visited = set()\n",
    "    path = set()\n",
    "    \n",
    "    def dfs(node):\n",
    "        visited.add(node)\n",
    "        path.add(node)\n",
    "        \n",
    "        for child in graph[node]:\n",
    "            if child in path:\n",
    "                return True\n",
    "            \n",
    "            if child in visited:\n",
    "                continue\n",
    "\n",
    "            if dfs(child):\n",
    "                return True\n",
    "        \n",
    "        path.remove(node)\n",
    "        return False\n",
    "    \n",
    "    for node in range(len(graph)):\n",
    "        if node not in visited:\n",
    "            if dfs(node):\n",
    "                return True\n",
    "    \n",
    "    return False\n",
    "\n",
    "# Example usage:\n",
    "if __name__ == \"__main__\":\n",
    "    # Example graph with a cycle: 0->1->2->0\n",
    "    graph_with_cycle = [\n",
    "        [1],    # Node 0 connected to 1\n",
    "        [2],    # Node 1 connected to 2\n",
    "        [0]     # Node 2 connected to 0\n",
    "    ]\n",
    "    \n",
    "    # Example graph without a cycle\n",
    "    graph_without_cycle = [\n",
    "        [1, 2],  # Node 0 connected to 1, 2\n",
    "        [3],     # Node 1 connected to 3\n",
    "        [3],     # Node 2 connected to 3\n",
    "        []       # Node 3 has no outgoing connections\n",
    "    ]\n",
    "    \n",
    "    print(\"Graph with cycle:\", has_cycle(graph_with_cycle))  # True\n",
    "    print(\"Graph without cycle:\", has_cycle(graph_without_cycle))  # False\n"
   ]
  }
 ],
 "metadata": {
  "kernelspec": {
   "display_name": "Python 3",
   "language": "python",
   "name": "python3"
  },
  "language_info": {
   "codemirror_mode": {
    "name": "ipython",
    "version": 3
   },
   "file_extension": ".py",
   "mimetype": "text/x-python",
   "name": "python",
   "nbconvert_exporter": "python",
   "pygments_lexer": "ipython3",
   "version": "3.11.5"
  }
 },
 "nbformat": 4,
 "nbformat_minor": 2
}
