{
 "cells": [
  {
   "cell_type": "code",
   "execution_count": 1,
   "metadata": {},
   "outputs": [
    {
     "name": "stdout",
     "output_type": "stream",
     "text": [
      "Graph 1 is bipartite: True\n",
      "Graph 2 is bipartite: False\n"
     ]
    }
   ],
   "source": [
    "def isBipartite(graph: list[list[int]]):\n",
    "    \"\"\"\n",
    "    Determines if a graph is bipartite using BFS coloring.\n",
    "    \n",
    "    Args:\n",
    "        graph: List of lists representing an adjacency list\n",
    "               where graph[i] contains neighbors of node i\n",
    "    \n",
    "    Returns:\n",
    "        True if the graph is bipartite, False otherwise\n",
    "    \"\"\"\n",
    "    n = len(graph)\n",
    "    \n",
    "    vis = [False] * n\n",
    "    part = [1] * n\n",
    "    \n",
    "    for start in range(n):\n",
    "        if vis[start]:\n",
    "            continue\n",
    "        \n",
    "        q = [start]\n",
    "        vis[start] = True\n",
    "        \n",
    "        while q:\n",
    "            levelSize = len(q)\n",
    "            \n",
    "            for _ in range(levelSize):\n",
    "                node = q.pop(0)\n",
    "                \n",
    "                for ch in graph[node]:\n",
    "                    if vis[ch]:\n",
    "                        if part[ch] == part[node]:\n",
    "                            return False\n",
    "                        continue\n",
    "                    \n",
    "                    part[ch] = part[node] * -1\n",
    "                    vis[ch] = True\n",
    "                    q.append(ch)\n",
    "    \n",
    "    return True"
   ]
  },
  {
   "cell_type": "code",
   "execution_count": 3,
   "metadata": {},
   "outputs": [
    {
     "name": "stdout",
     "output_type": "stream",
     "text": [
      "Graph 1 is bipartite: True\n",
      "Graph 2 is bipartite: False\n"
     ]
    }
   ],
   "source": [
    "# Example 1: A bipartite graph (a simple tree)\n",
    "graph1 = [\n",
    "    [1, 3],  # Node 0 connected to 1, 3\n",
    "    [0, 2],  # Node 1 connected to 0, 2\n",
    "    [1],  # Node 2 connected to 1\n",
    "    [0],  # Node 3 connected to 0\n",
    "]\n",
    "\n",
    "# Example 2: A non-bipartite graph (odd-length cycle)\n",
    "graph2 = [\n",
    "    [1, 2],  # Node 0 connected to 1, 2\n",
    "    [0, 2],  # Node 1 connected to 0, 2\n",
    "    [0, 1],  # Node 2 connected to 0, 1\n",
    "]\n",
    "\n",
    "print(f\"Graph 1 is bipartite: {isBipartite(graph1)}\")  # Should be True\n",
    "print(f\"Graph 2 is bipartite: {isBipartite(graph2)}\")  # Should be False"
   ]
  }
 ],
 "metadata": {
  "kernelspec": {
   "display_name": "Python 3",
   "language": "python",
   "name": "python3"
  },
  "language_info": {
   "codemirror_mode": {
    "name": "ipython",
    "version": 3
   },
   "file_extension": ".py",
   "mimetype": "text/x-python",
   "name": "python",
   "nbconvert_exporter": "python",
   "pygments_lexer": "ipython3",
   "version": "3.11.5"
  }
 },
 "nbformat": 4,
 "nbformat_minor": 2
}
