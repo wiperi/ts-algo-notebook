{
 "cells": [
  {
   "cell_type": "markdown",
   "metadata": {},
   "source": [
    "# 排列\n",
    "\n",
    "## 输入元素无重复，同一元素不可复用\n",
    "\n",
    "![alt](../../assets/permutation-nondup-input-recursion-tree.png)"
   ]
  },
  {
   "cell_type": "code",
   "execution_count": 1,
   "metadata": {},
   "outputs": [
    {
     "data": {
      "text/plain": [
       "[[1, 2, 3], [1, 3, 2], [2, 1, 3], [2, 3, 1], [3, 1, 2], [3, 2, 1]]"
      ]
     },
     "execution_count": 1,
     "metadata": {},
     "output_type": "execute_result"
    }
   ],
   "source": [
    "def permute(nums):\n",
    "\n",
    "    def backtrack():\n",
    "\n",
    "        if len(path) == len(nums):\n",
    "            res.append(path.copy())\n",
    "            return\n",
    "\n",
    "        for i in range(len(nums)):\n",
    "            if nums[i] in path:\n",
    "                continue\n",
    "\n",
    "            path.append(nums[i])\n",
    "            backtrack()\n",
    "            path.pop()\n",
    "\n",
    "        return\n",
    "\n",
    "    path = []\n",
    "    res = []\n",
    "    backtrack()\n",
    "    return res\n",
    "\n",
    "\n",
    "permute([1, 2, 3])"
   ]
  },
  {
   "cell_type": "markdown",
   "metadata": {},
   "source": [
    "## 输入元素有重复，同一元素不可复用\n",
    "\n",
    "![alt](../../assets/permutation-dup-input-input-input-recursion-tree.png)"
   ]
  },
  {
   "cell_type": "code",
   "execution_count": 72,
   "metadata": {},
   "outputs": [
    {
     "data": {
      "text/plain": [
       "[[1, 1, 2], [1, 2, 1], [2, 1, 1]]"
      ]
     },
     "execution_count": 72,
     "metadata": {},
     "output_type": "execute_result"
    }
   ],
   "source": [
    "def permuteUnique(nums: list[int]):\n",
    "\n",
    "    def backtrack():\n",
    "\n",
    "        if len(path) == len(nums):\n",
    "            res.append(path[:])\n",
    "            return\n",
    "\n",
    "        for i, v in enumerate(nums):\n",
    "            # 排列问题， 元素不可重复使用\n",
    "            if usedIndex[i]:\n",
    "                continue\n",
    "\n",
    "            if i > 0 and nums[i] == nums[i - 1]:\n",
    "                # 如果当前元素是一个重复元素，如[1, 1', 1'']中的1'\n",
    "                if usedIndex[i - 1] == False:\n",
    "                    # 且前一个元素没有被使用过，1没有被使用过\n",
    "                    continue\n",
    "\n",
    "            # 如果当前元素是重复元素，此时前一个元素已经被使用过\n",
    "            # 例如，只有当1被使用之后，1'才能被使用\n",
    "            # 确保重复元素们之间的相对顺序和原数组中的相对顺序一致\n",
    "            # 如，1'只能再1之后被使用，1''只能再1'之后被使用\n",
    "\n",
    "            path.append(v)\n",
    "            usedIndex[i] = True\n",
    "            backtrack()\n",
    "            usedIndex[i] = False\n",
    "            path.pop()\n",
    "\n",
    "    res = []\n",
    "    path = []\n",
    "    usedIndex = [False] * len(nums)\n",
    "\n",
    "    nums.sort()\n",
    "    backtrack()\n",
    "\n",
    "    return res\n",
    "\n",
    "\n",
    "permuteUnique([1, 1, 2])"
   ]
  },
  {
   "cell_type": "markdown",
   "metadata": {},
   "source": [
    "## 输入元素无重复，同一元素可复用"
   ]
  },
  {
   "cell_type": "code",
   "execution_count": 70,
   "metadata": {},
   "outputs": [
    {
     "data": {
      "text/plain": [
       "[[1, 1, 1],\n",
       " [1, 1, 2],\n",
       " [1, 1, 3],\n",
       " [1, 2, 1],\n",
       " [1, 2, 2],\n",
       " [1, 2, 3],\n",
       " [1, 3, 1],\n",
       " [1, 3, 2],\n",
       " [1, 3, 3],\n",
       " [2, 1, 1],\n",
       " [2, 1, 2],\n",
       " [2, 1, 3],\n",
       " [2, 2, 1],\n",
       " [2, 2, 2],\n",
       " [2, 2, 3],\n",
       " [2, 3, 1],\n",
       " [2, 3, 2],\n",
       " [2, 3, 3],\n",
       " [3, 1, 1],\n",
       " [3, 1, 2],\n",
       " [3, 1, 3],\n",
       " [3, 2, 1],\n",
       " [3, 2, 2],\n",
       " [3, 2, 3],\n",
       " [3, 3, 1],\n",
       " [3, 3, 2],\n",
       " [3, 3, 3]]"
      ]
     },
     "execution_count": 70,
     "metadata": {},
     "output_type": "execute_result"
    }
   ],
   "source": [
    "def permute(nums):\n",
    "\n",
    "    def backtrack():\n",
    "\n",
    "        if len(path) == len(nums):\n",
    "            res.append(path.copy())\n",
    "            return\n",
    "\n",
    "        for i in range(len(nums)):\n",
    "            path.append(nums[i])\n",
    "            backtrack()\n",
    "            path.pop()\n",
    "\n",
    "        return\n",
    "\n",
    "    path = []\n",
    "    res = []\n",
    "    backtrack()\n",
    "    return res\n",
    "\n",
    "\n",
    "permute([1, 2, 3])"
   ]
  },
  {
   "cell_type": "markdown",
   "metadata": {},
   "source": [
    "# 组合\n",
    "\n",
    "子集 = 原序列任意位的组合加到一起，不需要考虑元素在原序列中的顺序，是考虑元素选于不选\n",
    "\n",
    "子序列 = 子序列不需要连续，但出现顺序要保持与原序列中的顺序相同\n",
    "\n",
    "字串 = 连续的子序列，通过嵌套for循环得到\n",
    "\n",
    "## 输入元素无重复，同一元素不可复用\n",
    "\n",
    "![alt](../../assets/subsets-nondup-input-recursion-tree.png)"
   ]
  },
  {
   "cell_type": "code",
   "execution_count": 1,
   "metadata": {},
   "outputs": [
    {
     "name": "stdout",
     "output_type": "stream",
     "text": [
      "Subsets: [[], [1], [1, 2], [1, 2, 3], [1, 3], [2], [2, 3], [3]]\n",
      "All Combinations [[[]], [[1], [2], [3]], [[1, 2], [1, 3], [2, 3]], [[1, 2, 3]]]\n"
     ]
    }
   ],
   "source": [
    "def subsets(nums: list[int]):\n",
    "\n",
    "    def backtrack(start):\n",
    "\n",
    "        subsets.append(path.copy())\n",
    "\n",
    "        depth = len(path)\n",
    "        combinations[depth].append(path.copy())\n",
    "\n",
    "        for i in range(start, len(nums)):\n",
    "            path.append(nums[i])\n",
    "            backtrack(i + 1)\n",
    "            path.pop()\n",
    "\n",
    "        return\n",
    "\n",
    "    path = []\n",
    "    subsets = []\n",
    "    combinations = [[] for _ in range(len(nums) + 1)]\n",
    "\n",
    "    backtrack(0)\n",
    "\n",
    "    print(\"Subsets:\", subsets)\n",
    "    print(\"All Combinations\", combinations)\n",
    "    return subsets\n",
    "\n",
    "\n",
    "subsets([1, 2, 3])\n",
    "None"
   ]
  },
  {
   "cell_type": "markdown",
   "metadata": {},
   "source": [
    "## 输入元素有重复，同一元素不可复用\n",
    "\n",
    "![alt](../../assets/subsets-dup-input-recursion-tree.png)"
   ]
  },
  {
   "cell_type": "code",
   "execution_count": 24,
   "metadata": {},
   "outputs": [
    {
     "name": "stdout",
     "output_type": "stream",
     "text": [
      "All Combinations [[]]\n",
      "[[1], [2]]\n",
      "[[1, 1], [1, 2]]\n",
      "[[1, 1, 2]]\n"
     ]
    },
    {
     "data": {
      "text/plain": [
       "[[], [1], [1, 1], [1, 1, 2], [1, 2], [2]]"
      ]
     },
     "execution_count": 24,
     "metadata": {},
     "output_type": "execute_result"
    }
   ],
   "source": [
    "def subsets(nums: list[int]):\n",
    "\n",
    "    def backtrack(start):\n",
    "\n",
    "        subsets.append(path.copy())\n",
    "\n",
    "        depth = len(path)\n",
    "        combinations[depth].append(path.copy())\n",
    "\n",
    "        used = set()\n",
    "        for i in range(start, len(nums)):\n",
    "            if nums[i] in used: continue\n",
    "\n",
    "            used.add(nums[i])\n",
    "            path.append(nums[i])\n",
    "            backtrack(i + 1)\n",
    "            path.pop()\n",
    "\n",
    "        return\n",
    "\n",
    "    path = []\n",
    "    subsets = []\n",
    "    combinations = [[] for _ in range(len(nums) + 1)]\n",
    "\n",
    "    nums.sort()\n",
    "    backtrack(0)\n",
    "\n",
    "    print(\"All Combinations\", \n",
    "          \"\\n\".join(str(combination) for combination in combinations))\n",
    "\t\n",
    "\n",
    "    return subsets\n",
    "\n",
    "def check_for_duplicates(arrays: list[list[int]]):\n",
    "\tseen = set()\n",
    "\tfor array in arrays:\n",
    "\t\tsorted_array = tuple(sorted(array))\n",
    "\t\tif sorted_array in seen:\n",
    "\t\t\traise ValueError(f\"Duplicate array found: {array}\")\n",
    "\t\tseen.add(sorted_array)\n",
    "\n",
    "\n",
    "res = subsets([1,2,1])\n",
    "check_for_duplicates(res)\n",
    "res"
   ]
  },
  {
   "cell_type": "code",
   "execution_count": 7,
   "metadata": {},
   "outputs": [
    {
     "data": {
      "text/plain": [
       "[[],\n",
       " [-1],\n",
       " [-1, -1],\n",
       " [-1, -1, 1],\n",
       " [-1, -1, 1, 2],\n",
       " [-1, -1, 1, 2, 2],\n",
       " [-1, -1, 2],\n",
       " [-1, -1, 2, 2],\n",
       " [-1, 1],\n",
       " [-1, 1, 2],\n",
       " [-1, 1, 2, 2],\n",
       " [-1, 2],\n",
       " [-1, 2, 2],\n",
       " [1],\n",
       " [1, 2],\n",
       " [1, 2, 2],\n",
       " [2],\n",
       " [2, 2]]"
      ]
     },
     "execution_count": 7,
     "metadata": {},
     "output_type": "execute_result"
    }
   ],
   "source": [
    "def subsetsWithDup(nums: list[int]) -> list[list[int]]:\n",
    "\n",
    "    def backtrack(start):\n",
    "\n",
    "        res.append(path[:])\n",
    "\n",
    "        for i in range(start, len(nums)):\n",
    "\n",
    "\t\t\t## 剪去挨在一起的，值相同的节点\n",
    "            if i > start and nums[i] == nums[i - 1]:\n",
    "                continue\n",
    "\n",
    "            path.append(nums[i])\n",
    "            backtrack(i + 1)\n",
    "            path.pop()\n",
    "\n",
    "    res = []\n",
    "    path = []\n",
    "\n",
    "\t## 对于每一层，让相同的节点挨在一起\n",
    "    nums.sort()\n",
    "    backtrack(0)\n",
    "    return res\n",
    "\n",
    "def check_for_duplicates(arrays: list[list[int]]):\n",
    "\tseen = set()\n",
    "\tfor array in arrays:\n",
    "\t\tsorted_array = tuple(sorted(array))\n",
    "\t\tif sorted_array in seen:\n",
    "\t\t\traise ValueError(f\"Duplicate array found: {array}\")\n",
    "\t\tseen.add(sorted_array)\n",
    "\n",
    "\n",
    "res = subsetsWithDup([-1, 2, 2, 1, -1])\n",
    "check_for_duplicates(res)\n",
    "res\n",
    "\n"
   ]
  },
  {
   "cell_type": "markdown",
   "metadata": {},
   "source": [
    "## 输入元素无重复，同一元素可复用"
   ]
  },
  {
   "cell_type": "code",
   "execution_count": 68,
   "metadata": {},
   "outputs": [
    {
     "data": {
      "text/plain": [
       "[[],\n",
       " [1],\n",
       " [1, 1],\n",
       " [1, 1, 1],\n",
       " [1, 1, 1, 1],\n",
       " [1, 1, 1, 1, 1],\n",
       " [1, 1, 1, 1, 1, 1],\n",
       " [1, 1, 1, 1, 1, 1, 1],\n",
       " [1, 1, 1, 1, 1, 2],\n",
       " [1, 1, 1, 1, 2],\n",
       " [1, 1, 1, 1, 3],\n",
       " [1, 1, 1, 2],\n",
       " [1, 1, 1, 2, 2],\n",
       " [1, 1, 1, 3],\n",
       " [1, 1, 2],\n",
       " [1, 1, 2, 2],\n",
       " [1, 1, 2, 3],\n",
       " [1, 1, 3],\n",
       " [1, 2],\n",
       " [1, 2, 2],\n",
       " [1, 2, 2, 2],\n",
       " [1, 2, 3],\n",
       " [1, 3],\n",
       " [1, 3, 3],\n",
       " [2],\n",
       " [2, 2],\n",
       " [2, 2, 2],\n",
       " [2, 2, 3],\n",
       " [2, 3],\n",
       " [3],\n",
       " [3, 3]]"
      ]
     },
     "execution_count": 68,
     "metadata": {},
     "output_type": "execute_result"
    }
   ],
   "source": [
    "def subsets(nums: list[int]):\n",
    "\n",
    "    def backtrack(start):\n",
    "\n",
    "        if sum(path) > 7: return\n",
    "\n",
    "        subsets.append(path.copy())\n",
    "\n",
    "\n",
    "        for i in range(start, len(nums)):\n",
    "            path.append(nums[i])\n",
    "            backtrack(i)\n",
    "            path.pop()\n",
    "\n",
    "        return\n",
    "\n",
    "    path = []\n",
    "    subsets = []\n",
    "\n",
    "    backtrack(0)\n",
    "\n",
    "    return subsets\n",
    "\n",
    "subsets([1, 2, 3])"
   ]
  }
 ],
 "metadata": {
  "kernelspec": {
   "display_name": "Python 3",
   "language": "python",
   "name": "python3"
  },
  "language_info": {
   "codemirror_mode": {
    "name": "ipython",
    "version": 3
   },
   "file_extension": ".py",
   "mimetype": "text/x-python",
   "name": "python",
   "nbconvert_exporter": "python",
   "pygments_lexer": "ipython3",
   "version": "3.11.5"
  }
 },
 "nbformat": 4,
 "nbformat_minor": 2
}
