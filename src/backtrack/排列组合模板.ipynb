{
 "cells": [
  {
   "cell_type": "markdown",
   "metadata": {},
   "source": [
    "# 排列\n",
    "\n",
    "## 输入元素无重复，同一元素不可复用\n",
    "\n",
    "![alt](../../assets/permutation-nondup-input-recursion-tree.png)"
   ]
  },
  {
   "cell_type": "code",
   "execution_count": 74,
   "metadata": {},
   "outputs": [
    {
     "data": {
      "text/plain": [
       "[[1, 2, 3], [1, 3, 2], [2, 1, 3], [2, 3, 1], [3, 1, 2], [3, 2, 1]]"
      ]
     },
     "execution_count": 74,
     "metadata": {},
     "output_type": "execute_result"
    }
   ],
   "source": [
    "def permute(nums):\n",
    "\n",
    "    def backtrack():\n",
    "\n",
    "        if len(path) == len(nums):\n",
    "            res.append(path.copy())\n",
    "            return\n",
    "\n",
    "        for i in range(len(nums)):\n",
    "            if nums[i] in path:\n",
    "                continue\n",
    "\n",
    "            path.append(nums[i])\n",
    "            backtrack()\n",
    "            path.pop()\n",
    "\n",
    "        return\n",
    "\n",
    "    path = []\n",
    "    res = []\n",
    "    backtrack()\n",
    "    return res\n",
    "\n",
    "\n",
    "permute([1, 2, 3])"
   ]
  },
  {
   "cell_type": "markdown",
   "metadata": {},
   "source": [
    "## 输入元素有重复，同一元素不可复用\n",
    "\n",
    "![alt](../../assets/permutation-dup-input-input-input-recursion-tree.png)"
   ]
  },
  {
   "cell_type": "code",
   "execution_count": 72,
   "metadata": {},
   "outputs": [
    {
     "data": {
      "text/plain": [
       "[[1, 1, 2], [1, 2, 1], [2, 1, 1]]"
      ]
     },
     "execution_count": 72,
     "metadata": {},
     "output_type": "execute_result"
    }
   ],
   "source": [
    "def permuteUnique(nums: list[int]):\n",
    "\n",
    "    def backtrack():\n",
    "\n",
    "        if len(path) == len(nums):\n",
    "            res.append(path[:])\n",
    "            return\n",
    "\n",
    "        for i, v in enumerate(nums):\n",
    "            # 排列问题， 元素不可重复使用\n",
    "            if usedIndex[i]:\n",
    "                continue\n",
    "\n",
    "            if i > 0 and nums[i] == nums[i - 1]:\n",
    "                # 如果当前元素是一个重复元素，如[1, 1', 1'']中的1'\n",
    "                if usedIndex[i - 1] == False:\n",
    "                    # 且前一个元素没有被使用过，1没有被使用过\n",
    "                    continue\n",
    "\n",
    "            # 如果当前元素是重复元素，此时前一个元素已经被使用过\n",
    "            # 例如，只有当1被使用之后，1'才能被使用\n",
    "            # 确保重复元素们之间的相对顺序和原数组中的相对顺序一致\n",
    "            # 如，1'只能再1之后被使用，1''只能再1'之后被使用\n",
    "\n",
    "            path.append(v)\n",
    "            usedIndex[i] = True\n",
    "            backtrack()\n",
    "            usedIndex[i] = False\n",
    "            path.pop()\n",
    "\n",
    "    res = []\n",
    "    path = []\n",
    "    usedIndex = [False] * len(nums)\n",
    "\n",
    "    nums.sort()\n",
    "    backtrack()\n",
    "\n",
    "    return res\n",
    "\n",
    "\n",
    "permuteUnique([1, 1, 2])"
   ]
  },
  {
   "cell_type": "markdown",
   "metadata": {},
   "source": [
    "## 输入元素无重复，同一元素可复用"
   ]
  },
  {
   "cell_type": "code",
   "execution_count": 70,
   "metadata": {},
   "outputs": [
    {
     "data": {
      "text/plain": [
       "[[1, 1, 1],\n",
       " [1, 1, 2],\n",
       " [1, 1, 3],\n",
       " [1, 2, 1],\n",
       " [1, 2, 2],\n",
       " [1, 2, 3],\n",
       " [1, 3, 1],\n",
       " [1, 3, 2],\n",
       " [1, 3, 3],\n",
       " [2, 1, 1],\n",
       " [2, 1, 2],\n",
       " [2, 1, 3],\n",
       " [2, 2, 1],\n",
       " [2, 2, 2],\n",
       " [2, 2, 3],\n",
       " [2, 3, 1],\n",
       " [2, 3, 2],\n",
       " [2, 3, 3],\n",
       " [3, 1, 1],\n",
       " [3, 1, 2],\n",
       " [3, 1, 3],\n",
       " [3, 2, 1],\n",
       " [3, 2, 2],\n",
       " [3, 2, 3],\n",
       " [3, 3, 1],\n",
       " [3, 3, 2],\n",
       " [3, 3, 3]]"
      ]
     },
     "execution_count": 70,
     "metadata": {},
     "output_type": "execute_result"
    }
   ],
   "source": [
    "def permute(nums):\n",
    "\n",
    "    def backtrack():\n",
    "\n",
    "        if len(path) == len(nums):\n",
    "            res.append(path.copy())\n",
    "            return\n",
    "\n",
    "        for i in range(len(nums)):\n",
    "            path.append(nums[i])\n",
    "            backtrack()\n",
    "            path.pop()\n",
    "\n",
    "        return\n",
    "\n",
    "    path = []\n",
    "    res = []\n",
    "    backtrack()\n",
    "    return res\n",
    "\n",
    "\n",
    "permute([1, 2, 3])"
   ]
  },
  {
   "cell_type": "markdown",
   "metadata": {},
   "source": [
    "# 组合\n",
    "\n",
    "## 输入元素无重复，同一元素不可复用\n",
    "\n",
    "![alt](../../assets/subsets-nondup-input-recursion-tree.png)"
   ]
  },
  {
   "cell_type": "code",
   "execution_count": 23,
   "metadata": {},
   "outputs": [
    {
     "name": "stdout",
     "output_type": "stream",
     "text": [
      "Subsets: [[], [1], [1, 2], [1, 2, 3], [1, 3], [2], [2, 3], [3]]\n",
      "All Combinations [[[]], [[1], [2], [3]], [[1, 2], [1, 3], [2, 3]], [[1, 2, 3]]]\n"
     ]
    },
    {
     "data": {
      "text/plain": [
       "[[], [1], [1, 2], [1, 2, 3], [1, 3], [2], [2, 3], [3]]"
      ]
     },
     "execution_count": 23,
     "metadata": {},
     "output_type": "execute_result"
    }
   ],
   "source": [
    "def subsets(nums: list[int]):\n",
    "\n",
    "    def backtrack(start):\n",
    "\n",
    "        subsets.append(path.copy())\n",
    "\n",
    "        depth = len(path)\n",
    "        combinations[depth].append(path.copy())\n",
    "\n",
    "        for i in range(start, len(nums)):\n",
    "            path.append(nums[i])\n",
    "            backtrack(i + 1)\n",
    "            path.pop()\n",
    "\n",
    "        return\n",
    "\n",
    "    path = []\n",
    "    subsets = []\n",
    "    combinations = [[] for _ in range(len(nums) + 1)]\n",
    "\n",
    "    backtrack(0)\n",
    "\n",
    "    print(\"Subsets:\", subsets)\n",
    "    print(\"All Combinations\", combinations)\n",
    "    return subsets\n",
    "\n",
    "\n",
    "subsets([1, 2, 3])\n",
    "None"
   ]
  },
  {
   "cell_type": "markdown",
   "metadata": {},
   "source": [
    "## 输入元素有重复，同一元素不可复用\n",
    "\n",
    "![alt](../../assets/subsets-dup-input-recursion-tree.png)"
   ]
  },
  {
   "cell_type": "code",
   "execution_count": 61,
   "metadata": {},
   "outputs": [
    {
     "name": "stdout",
     "output_type": "stream",
     "text": [
      "Subsets: [[], [2], [2, 2], [2, 2, 1], [2, 1], [1]]\n",
      "All Combinations [[[]], [[2], [1]], [[2, 2], [2, 1]], [[2, 2, 1]]]\n"
     ]
    },
    {
     "data": {
      "text/plain": [
       "[[], [2], [2, 2], [2, 2, 1], [2, 1], [1]]"
      ]
     },
     "execution_count": 61,
     "metadata": {},
     "output_type": "execute_result"
    }
   ],
   "source": [
    "def subsets(nums: list[int]):\n",
    "\n",
    "    def backtrack(start):\n",
    "\n",
    "        subsets.append(path.copy())\n",
    "\n",
    "        depth = len(path)\n",
    "        combinations[depth].append(path.copy())\n",
    "\n",
    "        used = set()\n",
    "        for i in range(start, len(nums)):\n",
    "            if nums[i] in used: continue\n",
    "\n",
    "            used.add(nums[i])\n",
    "            path.append(nums[i])\n",
    "            backtrack(i + 1)\n",
    "            path.pop()\n",
    "\n",
    "        return\n",
    "\n",
    "    path = []\n",
    "    subsets = []\n",
    "    combinations = [[] for _ in range(len(nums) + 1)]\n",
    "\n",
    "    backtrack(0)\n",
    "\n",
    "    print(\"Subsets:\", subsets)\n",
    "    print(\"All Combinations\", combinations)\n",
    "    return subsets\n",
    "\n",
    "\n",
    "subsets([2, 2, 1])\n",
    "None"
   ]
  },
  {
   "cell_type": "markdown",
   "metadata": {},
   "source": [
    "## 输入元素无重复，同一元素可复用"
   ]
  },
  {
   "cell_type": "code",
   "execution_count": 68,
   "metadata": {},
   "outputs": [
    {
     "data": {
      "text/plain": [
       "[[],\n",
       " [1],\n",
       " [1, 1],\n",
       " [1, 1, 1],\n",
       " [1, 1, 1, 1],\n",
       " [1, 1, 1, 1, 1],\n",
       " [1, 1, 1, 1, 1, 1],\n",
       " [1, 1, 1, 1, 1, 1, 1],\n",
       " [1, 1, 1, 1, 1, 2],\n",
       " [1, 1, 1, 1, 2],\n",
       " [1, 1, 1, 1, 3],\n",
       " [1, 1, 1, 2],\n",
       " [1, 1, 1, 2, 2],\n",
       " [1, 1, 1, 3],\n",
       " [1, 1, 2],\n",
       " [1, 1, 2, 2],\n",
       " [1, 1, 2, 3],\n",
       " [1, 1, 3],\n",
       " [1, 2],\n",
       " [1, 2, 2],\n",
       " [1, 2, 2, 2],\n",
       " [1, 2, 3],\n",
       " [1, 3],\n",
       " [1, 3, 3],\n",
       " [2],\n",
       " [2, 2],\n",
       " [2, 2, 2],\n",
       " [2, 2, 3],\n",
       " [2, 3],\n",
       " [3],\n",
       " [3, 3]]"
      ]
     },
     "execution_count": 68,
     "metadata": {},
     "output_type": "execute_result"
    }
   ],
   "source": [
    "def subsets(nums: list[int]):\n",
    "\n",
    "    def backtrack(start):\n",
    "\n",
    "        if sum(path) > 7: return\n",
    "\n",
    "        subsets.append(path.copy())\n",
    "\n",
    "\n",
    "        for i in range(start, len(nums)):\n",
    "            path.append(nums[i])\n",
    "            backtrack(i)\n",
    "            path.pop()\n",
    "\n",
    "        return\n",
    "\n",
    "    path = []\n",
    "    subsets = []\n",
    "\n",
    "    backtrack(0)\n",
    "\n",
    "    return subsets\n",
    "\n",
    "subsets([1, 2, 3])"
   ]
  }
 ],
 "metadata": {
  "language_info": {
   "name": "python"
  }
 },
 "nbformat": 4,
 "nbformat_minor": 2
}
