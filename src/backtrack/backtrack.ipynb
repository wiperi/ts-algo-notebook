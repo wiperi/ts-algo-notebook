{
 "cells": [
  {
   "cell_type": "markdown",
   "metadata": {},
   "source": [
    "# 回溯算法\n",
    "\n",
    "## 代码框架\n",
    "\n",
    "```py\n",
    "def 回溯(...):\n",
    "    \n",
    "    if 终止条件:\n",
    "        记录结果\n",
    "        return\n",
    "        \n",
    "    for 选择 in 选择列表\n",
    "        剪枝\n",
    "\n",
    "        做选择\n",
    "        回溯(...) # 开始下一次选择\n",
    "        撤销选择\n",
    "```\n",
    "\n",
    "---\n",
    "\n",
    "解决实际问题中的模板运用\n",
    "\n",
    "```py\n",
    "def 问题():\n",
    "    \n",
    "    状态\n",
    "\n",
    "    return\n",
    "\n",
    "    def 回溯(状态): # 函数参数和全局变量都可以记录状态\n",
    "        \n",
    "        if 终止条件:\n",
    "            记录结果\n",
    "            return\n",
    "            \n",
    "        for 选择 in 选择列表\n",
    "            剪枝\n",
    "\n",
    "            更新状态\n",
    "            回溯(新的状态) # 进入递归树的下一层\n",
    "            回退状态\n",
    "\n",
    "```\n",
    "\n",
    "## 对比dfs，动态规划\n",
    "\n",
    "回溯算法和dfs的本质思想相同，都是采用递归的方式，对解空间进行深度优先遍历。区别在目的，dfs关注遍历所有节点，回溯关注寻找特定解\n",
    "\n",
    "回溯算法和动态规划的本质都是穷举，只不过动态规划存在「重叠子问题」可以优化，而回溯算法不存在而已"
   ]
  }
 ],
 "metadata": {
  "kernelspec": {
   "display_name": "Python 3",
   "language": "python",
   "name": "python3"
  },
  "language_info": {
   "codemirror_mode": {
    "name": "ipython",
    "version": 3
   },
   "file_extension": ".py",
   "mimetype": "text/x-python",
   "name": "python",
   "nbconvert_exporter": "python",
   "pygments_lexer": "ipython3",
   "version": "3.11.5"
  }
 },
 "nbformat": 4,
 "nbformat_minor": 2
}
