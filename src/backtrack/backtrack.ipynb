{
 "cells": [
  {
   "cell_type": "markdown",
   "metadata": {},
   "source": [
    "# 回溯算法"
   ]
  },
  {
   "cell_type": "markdown",
   "metadata": {},
   "source": [
    "## 代码框架"
   ]
  },
  {
   "cell_type": "markdown",
   "metadata": {},
   "source": [
    "```py\n",
    "def 回溯(...):\n",
    "    \n",
    "    if 终止条件:\n",
    "        记录结果\n",
    "        return\n",
    "        \n",
    "    for 选择 in 选择列表\n",
    "        剪枝\n",
    "\n",
    "        做选择\n",
    "        回溯(...)\n",
    "        撤销选择\n",
    "```\n",
    "\n",
    "---\n",
    "\n",
    "解决实际问题中的模板运用\n",
    "\n",
    "```py\n",
    "def 问题():\n",
    "    \n",
    "    状态\n",
    "\n",
    "    return\n",
    "\n",
    "    def 回溯(状态): # 函数参数和全局变量都可以记录状态\n",
    "        \n",
    "        if 终止条件:\n",
    "            记录结果\n",
    "            return\n",
    "            \n",
    "        for 选择 in 选择列表\n",
    "            剪枝\n",
    "\n",
    "            更新状态\n",
    "            回溯(新的状态) # 进入递归树的下一层\n",
    "            回退状态\n",
    "\n",
    "```"
   ]
  }
 ],
 "metadata": {
  "kernelspec": {
   "display_name": "Python 3",
   "language": "python",
   "name": "python3"
  },
  "language_info": {
   "codemirror_mode": {
    "name": "ipython",
    "version": 3
   },
   "file_extension": ".py",
   "mimetype": "text/x-python",
   "name": "python",
   "nbconvert_exporter": "python",
   "pygments_lexer": "ipython3",
   "version": "3.11.5"
  }
 },
 "nbformat": 4,
 "nbformat_minor": 2
}
