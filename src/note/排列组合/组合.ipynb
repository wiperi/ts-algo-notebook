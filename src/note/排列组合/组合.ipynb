{
 "cells": [
  {
   "cell_type": "code",
   "execution_count": 27,
   "metadata": {},
   "outputs": [],
   "source": [
    "def combinationLoop(nums: list):\n",
    "    n = len(nums)\n",
    "\n",
    "    # Sort the array to handle duplicates properly\n",
    "    nums = sorted(nums)\n",
    "\n",
    "    res = []\n",
    "    for i in range(n):\n",
    "        # Skip duplicates\n",
    "        if i > 0 and nums[i] == nums[i - 1]:\n",
    "            continue\n",
    "        for j in range(i + 1, n):\n",
    "            # Skip duplicates\n",
    "            if j > i + 1 and nums[j] == nums[j - 1]:\n",
    "                continue\n",
    "            for k in range(j + 1, n):\n",
    "                # Skip duplicates\n",
    "                if k > j + 1 and nums[k] == nums[k - 1]:\n",
    "                    continue\n",
    "                res.append([nums[i], nums[j], nums[k]])\n",
    "\n",
    "    return res\n",
    "\n",
    "\n",
    "def combinationBackTrack(nums: list, k: int):\n",
    "    n = len(nums)\n",
    "    res = []\n",
    "    path = []\n",
    "\n",
    "    def backtrack(start: int):\n",
    "        if len(path) == k:\n",
    "            res.append(path.copy())\n",
    "            return\n",
    "\n",
    "        for i in range(start, n):\n",
    "            # Skip duplicates\n",
    "            if i > start and nums[i] == nums[i - 1]:\n",
    "                continue\n",
    "\n",
    "            path.append(nums[i])\n",
    "            backtrack(i + 1)\n",
    "            path.pop()\n",
    "\n",
    "    # Sort the array to handle duplicates properly\n",
    "    nums.sort()\n",
    "    backtrack(0)\n",
    "    return res"
   ]
  },
  {
   "cell_type": "code",
   "execution_count": 29,
   "metadata": {},
   "outputs": [
    {
     "name": "stdout",
     "output_type": "stream",
     "text": [
      "[[1, 2, 2], [1, 2, 3], [2, 2, 3]]\n",
      "[[1, 2, 2], [1, 2, 3], [2, 2, 3]]\n",
      "[(1, 2, 2), (1, 2, 3), (1, 2, 3), (2, 2, 3)]\n"
     ]
    }
   ],
   "source": [
    "from itertools import combinations\n",
    "\n",
    "\n",
    "input = [3, 2, 1, 2]\n",
    "\n",
    "print(combinationLoop(input))\n",
    "print(combinationBackTrack(input, 3))\n",
    "print(list(combinations(input, 3)))"
   ]
  }
 ],
 "metadata": {
  "kernelspec": {
   "display_name": "Python 3",
   "language": "python",
   "name": "python3"
  },
  "language_info": {
   "codemirror_mode": {
    "name": "ipython",
    "version": 3
   },
   "file_extension": ".py",
   "mimetype": "text/x-python",
   "name": "python",
   "nbconvert_exporter": "python",
   "pygments_lexer": "ipython3",
   "version": "3.11.5"
  }
 },
 "nbformat": 4,
 "nbformat_minor": 2
}
