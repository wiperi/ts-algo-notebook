{
 "cells": [
  {
   "cell_type": "code",
   "execution_count": 21,
   "metadata": {},
   "outputs": [
    {
     "name": "stdout",
     "output_type": "stream",
     "text": [
      "[1]\n",
      "[1, 2]\n",
      "[2, 3]\n",
      "[3, 4]\n",
      "[4, 5]\n"
     ]
    }
   ],
   "source": [
    "def slidingWindow(nums: list[int]):\n",
    "\tleft, right = 0, 0\n",
    "\twindow = []\n",
    "\t\n",
    "\twhile right < len(nums):\n",
    "\t\t\n",
    "\t\twindow.append(nums[right])\t\n",
    "\t\tprint(window)\n",
    "\n",
    "\t\twhile len(window) > 1:\n",
    "\t\t\twindow.remove(nums[left])\n",
    "\t\t\tleft = left + 1\n",
    "\n",
    "\t\tright = right + 1\n",
    "\n",
    "\n",
    "slidingWindow([1,2,3,4,5])"
   ]
  },
  {
   "cell_type": "code",
   "execution_count": 22,
   "metadata": {},
   "outputs": [
    {
     "name": "stdout",
     "output_type": "stream",
     "text": [
      "[2]\n",
      "[2, 3]\n",
      "[2, 3, 4]\n"
     ]
    },
    {
     "ename": "ValueError",
     "evalue": "list.remove(x): x not in list",
     "output_type": "error",
     "traceback": [
      "\u001b[1;31m---------------------------------------------------------------------------\u001b[0m",
      "\u001b[1;31mValueError\u001b[0m                                Traceback (most recent call last)",
      "Cell \u001b[1;32mIn[22], line 18\u001b[0m\n\u001b[0;32m     13\u001b[0m \t\t\twindow\u001b[38;5;241m.\u001b[39mremove(nums[left])\n\u001b[0;32m     14\u001b[0m \t\t\tleft \u001b[38;5;241m=\u001b[39m left \u001b[38;5;241m+\u001b[39m \u001b[38;5;241m1\u001b[39m\n\u001b[1;32m---> 18\u001b[0m \u001b[43mslidingWindow\u001b[49m\u001b[43m(\u001b[49m\u001b[43m[\u001b[49m\u001b[38;5;241;43m1\u001b[39;49m\u001b[43m,\u001b[49m\u001b[38;5;241;43m2\u001b[39;49m\u001b[43m,\u001b[49m\u001b[38;5;241;43m3\u001b[39;49m\u001b[43m,\u001b[49m\u001b[38;5;241;43m4\u001b[39;49m\u001b[43m,\u001b[49m\u001b[38;5;241;43m5\u001b[39;49m\u001b[43m]\u001b[49m\u001b[43m)\u001b[49m\n",
      "Cell \u001b[1;32mIn[22], line 13\u001b[0m, in \u001b[0;36mslidingWindow\u001b[1;34m(nums)\u001b[0m\n\u001b[0;32m     10\u001b[0m \u001b[38;5;28mprint\u001b[39m(window)\n\u001b[0;32m     12\u001b[0m \u001b[38;5;28;01mwhile\u001b[39;00m \u001b[38;5;28mlen\u001b[39m(window) \u001b[38;5;241m>\u001b[39m \u001b[38;5;241m2\u001b[39m:\n\u001b[1;32m---> 13\u001b[0m \t\u001b[43mwindow\u001b[49m\u001b[38;5;241;43m.\u001b[39;49m\u001b[43mremove\u001b[49m\u001b[43m(\u001b[49m\u001b[43mnums\u001b[49m\u001b[43m[\u001b[49m\u001b[43mleft\u001b[49m\u001b[43m]\u001b[49m\u001b[43m)\u001b[49m\n\u001b[0;32m     14\u001b[0m \tleft \u001b[38;5;241m=\u001b[39m left \u001b[38;5;241m+\u001b[39m \u001b[38;5;241m1\u001b[39m\n",
      "\u001b[1;31mValueError\u001b[0m: list.remove(x): x not in list"
     ]
    }
   ],
   "source": [
    "def slidingWindow(nums: list[int]):\n",
    "\tleft, right = 0, 0\n",
    "\twindow = []\n",
    "\t\n",
    "\twhile right < len(nums) - 1:\n",
    "\t\t\n",
    "\t\tright = right + 1\n",
    "\n",
    "\t\twindow.append(nums[right])\t\n",
    "\t\tprint(window)\n",
    "\n",
    "\t\twhile len(window) > 2:\n",
    "\t\t\twindow.remove(nums[left])\n",
    "\t\t\tleft = left + 1\n",
    "\t\t\t\n",
    "\n",
    "\n",
    "slidingWindow([1,2,3,4,5])"
   ]
  }
 ],
 "metadata": {
  "kernelspec": {
   "display_name": "Python 3",
   "language": "python",
   "name": "python3"
  },
  "language_info": {
   "codemirror_mode": {
    "name": "ipython",
    "version": 3
   },
   "file_extension": ".py",
   "mimetype": "text/x-python",
   "name": "python",
   "nbconvert_exporter": "python",
   "pygments_lexer": "ipython3",
   "version": "3.11.5"
  }
 },
 "nbformat": 4,
 "nbformat_minor": 2
}
