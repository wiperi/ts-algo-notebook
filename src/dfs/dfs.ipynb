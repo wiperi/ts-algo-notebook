{
 "cells": [
  {
   "cell_type": "markdown",
   "metadata": {},
   "source": [
    "# dfs\n",
    "\n",
    "## 代码框架"
   ]
  },
  {
   "cell_type": "code",
   "execution_count": 11,
   "metadata": {},
   "outputs": [
    {
     "name": "stdout",
     "output_type": "stream",
     "text": [
      "1\n",
      "4\n",
      "7\n",
      "8\n",
      "9\n",
      "6\n",
      "5\n",
      "2\n",
      "3\n"
     ]
    }
   ],
   "source": [
    "def problem(grid):\n",
    "\n",
    "    row = len(grid)\n",
    "    col = len(grid[0])\n",
    "\n",
    "    visited = [[False for _ in range(col)] for _ in range(row)]\n",
    "\n",
    "    def dfs(r, c):\n",
    "\n",
    "        if r < 0 or c < 0 or r >= row or c >= col or visited[r][c]:\n",
    "            return\n",
    "\n",
    "        print(grid[r][c])\n",
    "\n",
    "        visited[r][c] = True\n",
    "        dfs(r + 1, c)\n",
    "        dfs(r, c + 1)\n",
    "        dfs(r, c - 1)\n",
    "        dfs(r - 1, c)\n",
    "\n",
    "    dfs(0, 0)\n",
    "\n",
    "    return\n",
    "\n",
    "\n",
    "matrix = [[1, 2, 3], [4, 5, 6], [7, 8, 9]]\n",
    "problem(matrix)"
   ]
  },
  {
   "cell_type": "code",
   "execution_count": 12,
   "metadata": {},
   "outputs": [
    {
     "name": "stdout",
     "output_type": "stream",
     "text": [
      "1\n",
      "2\n",
      "3\n",
      "6\n",
      "9\n",
      "8\n",
      "7\n",
      "4\n",
      "5\n"
     ]
    }
   ],
   "source": [
    "directions = [(0, 1), (1, 0), (0, -1), (-1, 0)]\n",
    "\n",
    "\n",
    "def problem(grid):\n",
    "\n",
    "    row = len(grid)\n",
    "    col = len(grid[0])\n",
    "\n",
    "    visited = [[False for _ in range(col)] for _ in range(row)]\n",
    "\n",
    "    def dfs(r, c):\n",
    "\n",
    "        if r < 0 or c < 0 or r >= row or c >= col or visited[r][c]:\n",
    "            return\n",
    "\n",
    "        print(grid[r][c])\n",
    "\n",
    "        visited[r][c] = True\n",
    "        for dr, dc in directions:\n",
    "            dfs(r + dr, c + dc)\n",
    "\n",
    "    dfs(0, 0)\n",
    "\n",
    "    return\n",
    "\n",
    "\n",
    "matrix = [[1, 2, 3], [4, 5, 6], [7, 8, 9]]\n",
    "problem(matrix)"
   ]
  }
 ],
 "metadata": {
  "kernelspec": {
   "display_name": "Python 3",
   "language": "python",
   "name": "python3"
  },
  "language_info": {
   "codemirror_mode": {
    "name": "ipython",
    "version": 3
   },
   "file_extension": ".py",
   "mimetype": "text/x-python",
   "name": "python",
   "nbconvert_exporter": "python",
   "pygments_lexer": "ipython3",
   "version": "3.11.5"
  }
 },
 "nbformat": 4,
 "nbformat_minor": 2
}
