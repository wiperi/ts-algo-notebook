{
 "cells": [
  {
   "cell_type": "markdown",
   "metadata": {},
   "source": [
    "# dfs\n",
    "\n",
    "## 代码框架"
   ]
  },
  {
   "cell_type": "code",
   "execution_count": null,
   "metadata": {},
   "outputs": [
    {
     "name": "stdout",
     "output_type": "stream",
     "text": [
      "1 4 7 8 9 6 5 2 3 \n"
     ]
    }
   ],
   "source": [
    "function problem(grid: number[][]): void {\n",
    "  const row = grid.length;\n",
    "  const col = grid[0].length;\n",
    "\n",
    "  const visited: boolean[][] = Array.from({ length: row }, () =>\n",
    "    Array(col).fill(false)\n",
    "  );\n",
    "\n",
    "  function dfs(r: number, c: number): void {\n",
    "    if (r < 0 || c < 0 || r >= row || c >= col || visited[r][c]) {\n",
    "      return;\n",
    "    }\n",
    "\n",
    "    process.stdout.write(grid[r][c] + \" \");\n",
    "\n",
    "    visited[r][c] = true;\n",
    "    dfs(r + 1, c);\n",
    "    dfs(r, c + 1);\n",
    "    dfs(r, c - 1);\n",
    "    dfs(r - 1, c);\n",
    "  }\n",
    "\n",
    "  dfs(0, 0);\n",
    "  process.stdout.write('\\n');\n",
    "}\n",
    "\n",
    "const matrix: number[][] = [\n",
    "  [1, 2, 3],\n",
    "  [4, 5, 6],\n",
    "  [7, 8, 9],\n",
    "];\n",
    "problem(matrix);\n"
   ]
  },
  {
   "cell_type": "code",
   "execution_count": null,
   "metadata": {},
   "outputs": [
    {
     "name": "stdout",
     "output_type": "stream",
     "text": [
      "1 4 7 8 9 6 5 2 3 \n"
     ]
    }
   ],
   "source": [
    "const directions: [number, number][] = [\n",
    "  [1, 0],\n",
    "  [0, 1],\n",
    "  [0, -1],\n",
    "  [-1, 0],\n",
    "];\n",
    "\n",
    "function problem(grid: number[][]): void {\n",
    "  const row = grid.length;\n",
    "  const col = grid[0].length;\n",
    "\n",
    "  const visited: boolean[][] = Array.from({ length: row }, () =>\n",
    "    Array(col).fill(false)\n",
    "  );\n",
    "\n",
    "  function dfs(r: number, c: number): void {\n",
    "    if (r < 0 || c < 0 || r >= row || c >= col || visited[r][c]) {\n",
    "      return;\n",
    "    }\n",
    "\n",
    "    process.stdout.write(grid[r][c] + \" \");\n",
    "\n",
    "    visited[r][c] = true;\n",
    "    for (const [dr, dc] of directions) {\n",
    "      dfs(r + dr, c + dc);\n",
    "    }\n",
    "  }\n",
    "\n",
    "  dfs(0, 0);\n",
    "  process.stdout.write('\\n');\n",
    "}\n",
    "\n",
    "const matrix: number[][] = [\n",
    "  [1, 2, 3],\n",
    "  [4, 5, 6],\n",
    "  [7, 8, 9],\n",
    "];\n",
    "problem(matrix);\n"
   ]
  }
 ],
 "metadata": {
  "kernelspec": {
   "display_name": "Python 3",
   "language": "python",
   "name": "python3"
  },
  "language_info": {
   "codemirror_mode": {
    "mode": "typescript",
    "name": "javascript",
    "typescript": true
   },
   "file_extension": ".ts",
   "mimetype": "text/typescript",
   "name": "python",
   "version": "3.11.5"
  }
 },
 "nbformat": 4,
 "nbformat_minor": 2
}
